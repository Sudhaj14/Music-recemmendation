{
 "cells": [
  {
   "cell_type": "code",
   "execution_count": null,
   "id": "22a30173-d429-4e51-a546-5d0942e37e94",
   "metadata": {},
   "outputs": [
    {
     "name": "stdout",
     "output_type": "stream",
     "text": [
      "The Top 10 Song Recommendation System\n",
      "-------------------------------------\n",
      "This will generate the 10 songs from the database thoese are similar to the song you entered.\n"
     ]
    },
    {
     "name": "stdin",
     "output_type": "stream",
     "text": [
      "Please enter the name of song:  rockstar\n"
     ]
    },
    {
     "name": "stdout",
     "output_type": "stream",
     "text": [
      "You should check out these songs: \n",
      "\n",
      "Circles\n",
      "Congratulations\n",
      "Wow.\n",
      "Psycho\n",
      "ROCKSTAR\n",
      "Enemies\n",
      "Paranoid\n",
      "SaintTropez\n",
      "I Fall Apart\n",
      "Better Now\n",
      "\n",
      "\n"
     ]
    }
   ],
   "source": [
    "# import requried dependencies\n",
    "import pandas as pd\n",
    "from sklearn.feature_extraction.text import CountVectorizer\n",
    "from sklearn.metrics.pairwise import cosine_similarity\n",
    "\n",
    "# read the data\n",
    "df = pd.read_csv(\"C:\\\\Users\\\\Sudha\\\\Downloads\\\\song-dataset (1).csv\", low_memory=False)[:1000]\n",
    "\n",
    "# remove duplicates\n",
    "df = df.drop_duplicates(subset=\"Song Name\")\n",
    "\n",
    "# drop Null values\n",
    "df = df.dropna(axis=0)\n",
    "\n",
    "# Drop the non-required columns\n",
    "df = df.drop(df.columns[3:], axis=1)\n",
    "\n",
    "# Removing space from \"Artist Name\" column\n",
    "df[\"Artist Name\"] = df[\"Artist Name\"].str.replace(\" \", \"\")\n",
    "\n",
    "# Combine all columns and assgin as new column\n",
    "df[\"data\"] = df.apply(lambda value: \" \".join(value.astype(\"str\")), axis=1)\n",
    "\n",
    "# models\n",
    "vectorizer = CountVectorizer()\n",
    "vectorized = vectorizer.fit_transform(df[\"data\"])\n",
    "similarities = cosine_similarity(vectorized)\n",
    "\n",
    "# Assgin the new dataframe with `similarities` values\n",
    "df_tmp = pd.DataFrame(similarities, columns=df[\"Song Name\"], index=df[\"Song Name\"]).reset_index()\n",
    "\n",
    "true = True\n",
    "while true:\n",
    "    print(\"The Top 10 Song Recommendation System\")\n",
    "    print(\"-------------------------------------\")\n",
    "    print(\"This will generate the 10 songs from the database thoese are similar to the song you entered.\")\n",
    "\n",
    "    # Asking the user for a song, it will loop until the song name is in our database.\n",
    "    while True:\n",
    "        input_song = input(\"Please enter the name of song: \")\n",
    "\n",
    "        if input_song in df_tmp.columns:\n",
    "            recommendation = df_tmp.nlargest(11, input_song)[\"Song Name\"]\n",
    "            break\n",
    "        \n",
    "        else:\n",
    "            print(\"Sorry, there is no song name in our database. Please try another one.\")\n",
    "    \n",
    "    print(\"You should check out these songs: \\n\")\n",
    "    for song in recommendation.values[1:]:\n",
    "        print(song)\n",
    "\n",
    "    print(\"\\n\")\n",
    "    # Asking the user for the next command, it will loop until the right command.\n",
    "    while True:\n",
    "        next_command = input(\"Do you want to generate again for the next song? [yes, no] \")\n",
    "\n",
    "        if next_command == \"yes\":\n",
    "            break\n",
    "\n",
    "        elif next_command == \"no\":\n",
    "            # `true` will be false. It will stop the whole script\n",
    "            true = False\n",
    "            break\n",
    "\n",
    "        else:\n",
    "            print(\"Please type 'yes' or 'no'\")"
   ]
  },
  {
   "cell_type": "code",
   "execution_count": null,
   "id": "a3a9b6e3-11e0-4b94-ae88-01e9c3f33159",
   "metadata": {},
   "outputs": [],
   "source": []
  },
  {
   "cell_type": "code",
   "execution_count": null,
   "id": "2ddec79c-dcab-493d-8261-c6af8ae66fd4",
   "metadata": {},
   "outputs": [],
   "source": []
  }
 ],
 "metadata": {
  "kernelspec": {
   "display_name": "Python 3 (ipykernel)",
   "language": "python",
   "name": "python3"
  },
  "language_info": {
   "codemirror_mode": {
    "name": "ipython",
    "version": 3
   },
   "file_extension": ".py",
   "mimetype": "text/x-python",
   "name": "python",
   "nbconvert_exporter": "python",
   "pygments_lexer": "ipython3",
   "version": "3.11.7"
  }
 },
 "nbformat": 4,
 "nbformat_minor": 5
}
